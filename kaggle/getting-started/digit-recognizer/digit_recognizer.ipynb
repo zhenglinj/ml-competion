{
 "cells": [
  {
   "cell_type": "markdown",
   "metadata": {
    "colab": {
     "base_uri": "https://localhost:8080/",
     "height": 17
    },
    "colab_type": "code",
    "id": "EkUFgxeWkyDJ",
    "outputId": "b6e31486-35ac-4f78-eb20-e755d76cb157"
   },
   "source": [
    "## Digit Recognizer"
   ]
  },
  {
   "cell_type": "code",
   "execution_count": 1,
   "metadata": {
    "ExecuteTime": {
     "end_time": "2019-02-12T15:14:36.082115Z",
     "start_time": "2019-02-12T15:14:33.231098Z"
    }
   },
   "outputs": [
    {
     "data": {
      "text/html": [
       "<script type=\"text/javascript\">window.PlotlyConfig = {MathJaxConfig: 'local'};</script><script type=\"text/javascript\">if (window.MathJax) {MathJax.Hub.Config({SVG: {font: \"STIX-Web\"}});}</script><script>requirejs.config({paths: { 'plotly': ['https://cdn.plot.ly/plotly-latest.min']},});if(!window._Plotly) {require(['plotly'],function(plotly) {window._Plotly=plotly;});}</script>"
      ],
      "text/vnd.plotly.v1+html": [
       "<script type=\"text/javascript\">window.PlotlyConfig = {MathJaxConfig: 'local'};</script><script type=\"text/javascript\">if (window.MathJax) {MathJax.Hub.Config({SVG: {font: \"STIX-Web\"}});}</script><script>requirejs.config({paths: { 'plotly': ['https://cdn.plot.ly/plotly-latest.min']},});if(!window._Plotly) {require(['plotly'],function(plotly) {window._Plotly=plotly;});}</script>"
      ]
     },
     "metadata": {},
     "output_type": "display_data"
    },
    {
     "data": {
      "text/plain": [
       "finfo(resolution=1.0000000000000000715e-18, min=-1.189731495357231765e+4932, max=1.189731495357231765e+4932, dtype=float128)"
      ]
     },
     "execution_count": 1,
     "metadata": {},
     "output_type": "execute_result"
    }
   ],
   "source": [
    "import matplotlib\n",
    "import matplotlib.pyplot as plt\n",
    "import matplotlib.image as mpimg\n",
    "import seaborn as sns\n",
    "import plotly.tools as tls\n",
    "import plotly.graph_objs as go\n",
    "import numpy as np  # linear algebra\n",
    "import pandas as pd  # data processing, CSV file I/O (e.g. pd.read_csv)\n",
    "\n",
    "import plotly.offline as py\n",
    "py.init_notebook_mode(connected=True)\n",
    "\n",
    "%matplotlib inline\n",
    "\n",
    "np.finfo(np.longdouble)"
   ]
  },
  {
   "cell_type": "markdown",
   "metadata": {
    "colab_type": "text",
    "id": "CfT1AdCaG-J0"
   },
   "source": [
    "## Loading the Digits Dataset"
   ]
  },
  {
   "cell_type": "code",
   "execution_count": 2,
   "metadata": {
    "ExecuteTime": {
     "end_time": "2019-02-12T15:14:45.289612Z",
     "start_time": "2019-02-12T15:14:36.085607Z"
    }
   },
   "outputs": [],
   "source": [
    "train = pd.read_csv(\"./input/train.csv\")\n",
    "test = pd.read_csv(\"./input/test.csv\")\n",
    "\n",
    "train_labels_df, train_images_df = train[['label']], train.iloc[:, 1:]\n",
    "test_images_df = test.iloc[:, 0:]"
   ]
  },
  {
   "cell_type": "markdown",
   "metadata": {},
   "source": [
    "## Check for null and missing values"
   ]
  },
  {
   "cell_type": "code",
   "execution_count": 3,
   "metadata": {
    "ExecuteTime": {
     "end_time": "2019-02-12T15:14:45.976815Z",
     "start_time": "2019-02-12T15:14:45.293459Z"
    }
   },
   "outputs": [
    {
     "data": {
      "text/plain": [
       "count       784\n",
       "unique        1\n",
       "top       False\n",
       "freq        784\n",
       "dtype: object"
      ]
     },
     "execution_count": 3,
     "metadata": {},
     "output_type": "execute_result"
    }
   ],
   "source": [
    "train_images_df.isnull().any().describe()"
   ]
  },
  {
   "cell_type": "code",
   "execution_count": 4,
   "metadata": {
    "ExecuteTime": {
     "end_time": "2019-02-12T15:14:46.244919Z",
     "start_time": "2019-02-12T15:14:45.979316Z"
    }
   },
   "outputs": [
    {
     "data": {
      "text/plain": [
       "count       784\n",
       "unique        1\n",
       "top       False\n",
       "freq        784\n",
       "dtype: object"
      ]
     },
     "execution_count": 4,
     "metadata": {},
     "output_type": "execute_result"
    }
   ],
   "source": [
    "test_images_df.isnull().any().describe()"
   ]
  },
  {
   "cell_type": "code",
   "execution_count": 5,
   "metadata": {
    "ExecuteTime": {
     "end_time": "2019-02-12T15:14:47.139540Z",
     "start_time": "2019-02-12T15:14:46.247052Z"
    }
   },
   "outputs": [],
   "source": [
    "from sklearn.model_selection import train_test_split\n",
    "import _pickle as pickle\n",
    "\n",
    "x_train, x_test, y_train, y_test = train_test_split(\n",
    "    train_images_df, train_labels_df, test_size=0.25, random_state=40)"
   ]
  },
  {
   "cell_type": "markdown",
   "metadata": {},
   "source": [
    "## Show digit data"
   ]
  },
  {
   "cell_type": "code",
   "execution_count": 6,
   "metadata": {
    "ExecuteTime": {
     "end_time": "2019-02-12T15:14:47.163233Z",
     "start_time": "2019-02-12T15:14:47.142864Z"
    }
   },
   "outputs": [
    {
     "data": {
      "text/plain": [
       "((31500, 784),\n",
       " (31500, 1),\n",
       " pandas.core.frame.DataFrame,\n",
       " pandas.core.frame.DataFrame)"
      ]
     },
     "execution_count": 6,
     "metadata": {},
     "output_type": "execute_result"
    }
   ],
   "source": [
    "x_train.shape, y_train.shape, type(x_train), type(y_train)"
   ]
  },
  {
   "cell_type": "code",
   "execution_count": 7,
   "metadata": {
    "ExecuteTime": {
     "end_time": "2019-02-12T15:14:48.491436Z",
     "start_time": "2019-02-12T15:14:47.169897Z"
    }
   },
   "outputs": [
    {
     "name": "stderr",
     "output_type": "stream",
     "text": [
      "/Users/zhenglj/miniconda3/lib/python3.6/site-packages/matplotlib/text.py:1191: FutureWarning:\n",
      "\n",
      "elementwise comparison failed; returning scalar instead, but in the future will perform elementwise comparison\n",
      "\n"
     ]
    },
    {
     "data": {
      "image/png": "[encoded data removed]",
      "text/plain": [
       "<Figure size 720x720 with 25 Axes>"
      ]
     },
     "metadata": {},
     "output_type": "display_data"
    }
   ],
   "source": [
    "image_size = int(x_train.shape[1]**.5)\n",
    "\n",
    "plt.figure(figsize=(10, 10))\n",
    "plt.gray()\n",
    "for i in range(25):\n",
    "    plt.subplot(5, 5, i+1)\n",
    "    plt.xticks([])\n",
    "    plt.yticks([])\n",
    "    plt.grid(False)\n",
    "    plt.imshow(x_train.values[i].reshape(\n",
    "        (image_size, image_size)), cmap=plt.cm.binary)\n",
    "    plt.xlabel(y_train.values[i])\n",
    "\n",
    "plt.show()"
   ]
  },
  {
   "cell_type": "code",
   "execution_count": 8,
   "metadata": {
    "ExecuteTime": {
     "end_time": "2019-02-12T15:14:48.799240Z",
     "start_time": "2019-02-12T15:14:48.494406Z"
    }
   },
   "outputs": [
    {
     "data": {
      "image/png": "[encoded data removed]",
      "text/plain": [
       "<Figure size 432x288 with 1 Axes>"
      ]
     },
     "metadata": {
      "needs_background": "light"
     },
     "output_type": "display_data"
    }
   ],
   "source": [
    "labels = y_train.values.reshape((y_train.values.shape[0]))\n",
    "g = sns.countplot(labels)"
   ]
  },
  {
   "cell_type": "markdown",
   "metadata": {},
   "source": [
    "## PCA"
   ]
  },
  {
   "cell_type": "code",
   "execution_count": 9,
   "metadata": {
    "ExecuteTime": {
     "end_time": "2019-02-12T15:14:54.086819Z",
     "start_time": "2019-02-12T15:14:48.802281Z"
    }
   },
   "outputs": [
    {
     "name": "stdout",
     "output_type": "stream",
     "text": [
      "sum of explained_variance_ratio_ 0.9007457718763443\n"
     ]
    },
    {
     "data": {
      "text/plain": [
       "((31500, 87), (10500, 87))"
      ]
     },
     "execution_count": 9,
     "metadata": {},
     "output_type": "execute_result"
    }
   ],
   "source": [
    "from sklearn.decomposition import PCA\n",
    "\n",
    "pca = PCA(n_components=0.9, whiten=True)\n",
    "pca.fit(x_train)\n",
    "pcaTrain = pca.transform(x_train)\n",
    "pcaTest = pca.transform(x_test)\n",
    "\n",
    "#print('explained_variance_', pca.explained_variance_, '\\nexplained_variance_ratio_', pca.explained_variance_ratio_, '\\nn_components_', pca.n_components_)\n",
    "print('sum of explained_variance_ratio_', sum(pca.explained_variance_ratio_))\n",
    "pcaTrain.shape, pcaTest.shape"
   ]
  },
  {
   "cell_type": "markdown",
   "metadata": {
    "ExecuteTime": {
     "end_time": "2019-02-12T13:21:18.306051Z",
     "start_time": "2019-02-12T13:19:59.927067Z"
    }
   },
   "source": [
    "#########show PCA data if 2 dimision\n",
    "uniqueClasses = set(y_train)\n",
    "for c in uniqueClasses:\n",
    "    plt.scatter(x_train[y_train==c][0], x_train[y_train==c][1], s=5)\n",
    "plt.xlabel('x_1')\n",
    "plt.ylabel('x_2')\n",
    "plt.title('MNIST visualization')\n",
    "plt.show()"
   ]
  },
  {
   "cell_type": "markdown",
   "metadata": {
    "ExecuteTime": {
     "end_time": "2019-02-12T14:35:57.108135Z",
     "start_time": "2019-02-12T14:35:57.104668Z"
    }
   },
   "source": [
    "## K-Nearest-Neighbors"
   ]
  },
  {
   "cell_type": "code",
   "execution_count": 10,
   "metadata": {
    "ExecuteTime": {
     "end_time": "2019-02-12T15:14:54.094375Z",
     "start_time": "2019-02-12T15:14:54.090004Z"
    }
   },
   "outputs": [],
   "source": [
    "from sklearn.decomposition import PCA\n",
    "from sklearn.neighbors import KNeighborsClassifier"
   ]
  },
  {
   "cell_type": "code",
   "execution_count": 11,
   "metadata": {
    "ExecuteTime": {
     "end_time": "2019-02-12T15:14:54.105228Z",
     "start_time": "2019-02-12T15:14:54.097788Z"
    }
   },
   "outputs": [],
   "source": [
    "size = 5000\n",
    "pcaTrain1, x_train1, y_train1 = pcaTrain[0:size,\n",
    "                                         :], x_train.iloc[0:size, :], y_train.iloc[0:size, :]"
   ]
  },
  {
   "cell_type": "code",
   "execution_count": 12,
   "metadata": {
    "ExecuteTime": {
     "end_time": "2019-02-12T15:22:16.526751Z",
     "start_time": "2019-02-12T15:14:54.109075Z"
    }
   },
   "outputs": [
    {
     "name": "stderr",
     "output_type": "stream",
     "text": [
      "/Users/zhenglj/miniconda3/lib/python3.6/site-packages/ipykernel_launcher.py:2: DataConversionWarning:\n",
      "\n",
      "A column-vector y was passed when a 1d array was expected. Please change the shape of y to (n_samples, ), for example using ravel().\n",
      "\n"
     ]
    },
    {
     "data": {
      "text/plain": [
       "0.9638095238095238"
      ]
     },
     "execution_count": 12,
     "metadata": {},
     "output_type": "execute_result"
    }
   ],
   "source": [
    "knnClf = KNeighborsClassifier()\n",
    "knnClf.fit(x_train, y_train)  # 训练SVM\n",
    "knnClf.score(x_test, y_test)"
   ]
  },
  {
   "cell_type": "code",
   "execution_count": 13,
   "metadata": {
    "ExecuteTime": {
     "end_time": "2019-02-12T15:28:58.820532Z",
     "start_time": "2019-02-12T15:22:16.529352Z"
    }
   },
   "outputs": [
    {
     "name": "stdout",
     "output_type": "stream",
     "text": [
      "knnClf:\n",
      "               precision    recall  f1-score   support\n",
      "\n",
      "     Digit-0       0.99      0.97      0.98      1039\n",
      "     Digit-1       1.00      0.95      0.97      1184\n",
      "     Digit-2       0.96      0.98      0.97      1030\n",
      "     Digit-3       0.96      0.96      0.96      1128\n",
      "     Digit-4       0.96      0.97      0.96      1005\n",
      "     Digit-5       0.95      0.95      0.95       935\n",
      "     Digit-6       0.99      0.97      0.98      1026\n",
      "     Digit-7       0.97      0.96      0.96      1109\n",
      "     Digit-8       0.92      0.98      0.95       952\n",
      "     Digit-9       0.94      0.94      0.94      1092\n",
      "\n",
      "   micro avg       0.96      0.96      0.96     10500\n",
      "   macro avg       0.96      0.96      0.96     10500\n",
      "weighted avg       0.96      0.96      0.96     10500\n",
      "\n"
     ]
    }
   ],
   "source": [
    "from sklearn.metrics import classification_report\n",
    "\n",
    "target_names = ['Digit-' + str(x) for x in range(0, 10)]\n",
    "print(\"knnClf:\\n\", classification_report(\n",
    "    knnClf.predict(x_test), y_test, target_names=target_names))"
   ]
  },
  {
   "cell_type": "markdown",
   "metadata": {
    "colab_type": "text",
    "id": "EXqmHBqLIZNX"
   },
   "source": [
    "## SVM classifier"
   ]
  },
  {
   "cell_type": "code",
   "execution_count": 14,
   "metadata": {
    "ExecuteTime": {
     "end_time": "2019-02-12T15:28:58.827633Z",
     "start_time": "2019-02-12T15:28:58.823818Z"
    },
    "colab": {},
    "colab_type": "code",
    "id": "9voIiWTaFA59"
   },
   "outputs": [],
   "source": [
    "from sklearn.svm import SVC, LinearSVC"
   ]
  },
  {
   "cell_type": "markdown",
   "metadata": {},
   "source": [
    "原始数据 x_train and x_test, shape is (n_samples * (= 28 * 28))  \n",
    "SVC全称是C-Support Vector Classification，是一种基于libsvm的支持向量机，由于其时间复杂度为O(n^2)，所以当样本数量超过两万时难以实现。 "
   ]
  },
  {
   "cell_type": "code",
   "execution_count": 15,
   "metadata": {
    "ExecuteTime": {
     "end_time": "2019-02-12T15:28:58.839478Z",
     "start_time": "2019-02-12T15:28:58.830920Z"
    }
   },
   "outputs": [],
   "source": [
    "size = 5000\n",
    "pcaTrain1, x_train1, y_train1 = pcaTrain[0:size,\n",
    "                                         :], x_train.iloc[0:size, :], y_train.iloc[0:size, :]"
   ]
  },
  {
   "cell_type": "code",
   "execution_count": 16,
   "metadata": {
    "ExecuteTime": {
     "end_time": "2019-02-12T15:29:01.511608Z",
     "start_time": "2019-02-12T15:28:58.847254Z"
    }
   },
   "outputs": [
    {
     "name": "stderr",
     "output_type": "stream",
     "text": [
      "/Users/zhenglj/miniconda3/lib/python3.6/site-packages/sklearn/utils/validation.py:752: DataConversionWarning:\n",
      "\n",
      "A column-vector y was passed when a 1d array was expected. Please change the shape of y to (n_samples, ), for example using ravel().\n",
      "\n",
      "/Users/zhenglj/miniconda3/lib/python3.6/site-packages/sklearn/svm/base.py:922: ConvergenceWarning:\n",
      "\n",
      "Liblinear failed to converge, increase the number of iterations.\n",
      "\n"
     ]
    },
    {
     "data": {
      "text/plain": [
       "0.8205714285714286"
      ]
     },
     "execution_count": 16,
     "metadata": {},
     "output_type": "execute_result"
    }
   ],
   "source": [
    "svmLinearClf = LinearSVC()\n",
    "svmLinearClf.fit(x_train1, y_train1)  # 训练SVM\n",
    "svmLinearClf.score(x_test, y_test)"
   ]
  },
  {
   "cell_type": "code",
   "execution_count": 35,
   "metadata": {
    "ExecuteTime": {
     "end_time": "2019-02-14T22:56:22.045326Z",
     "start_time": "2019-02-14T22:56:01.507424Z"
    }
   },
   "outputs": [
    {
     "name": "stderr",
     "output_type": "stream",
     "text": [
      "/Users/zhenglj/miniconda3/lib/python3.6/site-packages/sklearn/utils/validation.py:752: DataConversionWarning:\n",
      "\n",
      "A column-vector y was passed when a 1d array was expected. Please change the shape of y to (n_samples, ), for example using ravel().\n",
      "\n",
      "/Users/zhenglj/miniconda3/lib/python3.6/site-packages/sklearn/svm/base.py:196: FutureWarning:\n",
      "\n",
      "The default value of gamma will change from 'auto' to 'scale' in version 0.22 to account better for unscaled features. Set gamma explicitly to 'auto' or 'scale' to avoid this warning.\n",
      "\n"
     ]
    },
    {
     "data": {
      "text/plain": [
       "0.9365714285714286"
      ]
     },
     "execution_count": 35,
     "metadata": {},
     "output_type": "execute_result"
    }
   ],
   "source": [
    "svmPcaClf = SVC(C=10, kernel='poly', decision_function_shape='ovr')\n",
    "svmPcaClf.fit(x_train1, y_train1)  # 训练SVM\n",
    "svmPcaClf.score(x_test, y_test)"
   ]
  },
  {
   "cell_type": "markdown",
   "metadata": {},
   "source": [
    "PCA data pcaTrain"
   ]
  },
  {
   "cell_type": "code",
   "execution_count": 17,
   "metadata": {
    "ExecuteTime": {
     "end_time": "2019-02-12T15:29:07.981287Z",
     "start_time": "2019-02-12T15:29:01.515367Z"
    }
   },
   "outputs": [
    {
     "name": "stderr",
     "output_type": "stream",
     "text": [
      "/Users/zhenglj/miniconda3/lib/python3.6/site-packages/sklearn/utils/validation.py:752: DataConversionWarning:\n",
      "\n",
      "A column-vector y was passed when a 1d array was expected. Please change the shape of y to (n_samples, ), for example using ravel().\n",
      "\n",
      "/Users/zhenglj/miniconda3/lib/python3.6/site-packages/sklearn/svm/base.py:196: FutureWarning:\n",
      "\n",
      "The default value of gamma will change from 'auto' to 'scale' in version 0.22 to account better for unscaled features. Set gamma explicitly to 'auto' or 'scale' to avoid this warning.\n",
      "\n"
     ]
    },
    {
     "data": {
      "text/plain": [
       "0.9488571428571428"
      ]
     },
     "execution_count": 17,
     "metadata": {},
     "output_type": "execute_result"
    }
   ],
   "source": [
    "svmPcaClf = SVC(C=10, kernel='rbf', decision_function_shape='ovr')\n",
    "svmPcaClf.fit(pcaTrain1, y_train1)  # 训练SVM\n",
    "svmPcaClf.score(pcaTest, y_test)"
   ]
  },
  {
   "cell_type": "markdown",
   "metadata": {},
   "source": [
    "n为特征数，m为训练样本数。\n",
    "\n",
    "(1)如果相较于m而言，n要大许多，即训练集数据量不够支持我们训练一个复杂的非线性模型，我们选用逻辑回归模型或者不带核函数的支持向量机。\n",
    "\n",
    "(2)如果n较小，而且m大小中等，例如n在 1-1000 之间，而m在10-10000之间，使用高斯核函数的支持向量机。\n",
    "\n",
    "(3)如果n较小，而m较大，例如n在1-1000之间，而m大于50000，则使用支持向量机会非常慢，解决方案是创造、增加更多的特征，然后使用逻辑回归或不带核函数的支持向量机。"
   ]
  },
  {
   "cell_type": "markdown",
   "metadata": {
    "colab_type": "text",
    "id": "H6yNQkqwMpjO"
   },
   "source": [
    "**生成classification_report**"
   ]
  },
  {
   "cell_type": "code",
   "execution_count": 18,
   "metadata": {
    "ExecuteTime": {
     "end_time": "2019-02-12T15:29:11.940037Z",
     "start_time": "2019-02-12T15:29:07.984495Z"
    },
    "colab": {
     "base_uri": "https://localhost:8080/",
     "height": 34
    },
    "colab_type": "code",
    "id": "KpOBTr_OJgaE",
    "outputId": "394799b5-b2ab-490d-ebba-bd1eb4508c7a"
   },
   "outputs": [
    {
     "name": "stdout",
     "output_type": "stream",
     "text": [
      "svmLinearClf:\n",
      "               precision    recall  f1-score   support\n",
      "\n",
      "     Digit-0       0.94      0.87      0.91      1106\n",
      "     Digit-1       0.97      0.91      0.94      1212\n",
      "     Digit-2       0.81      0.80      0.80      1067\n",
      "     Digit-3       0.78      0.79      0.78      1115\n",
      "     Digit-4       0.86      0.82      0.84      1072\n",
      "     Digit-5       0.75      0.70      0.72       996\n",
      "     Digit-6       0.90      0.89      0.90      1022\n",
      "     Digit-7       0.86      0.85      0.86      1122\n",
      "     Digit-8       0.59      0.80      0.68       747\n",
      "     Digit-9       0.72      0.76      0.74      1041\n",
      "\n",
      "   micro avg       0.82      0.82      0.82     10500\n",
      "   macro avg       0.82      0.82      0.82     10500\n",
      "weighted avg       0.83      0.82      0.82     10500\n",
      "\n",
      "svmPcaClf:\n",
      "               precision    recall  f1-score   support\n",
      "\n",
      "     Digit-0       0.98      0.97      0.97      1037\n",
      "     Digit-1       0.99      0.99      0.99      1128\n",
      "     Digit-2       0.96      0.92      0.94      1101\n",
      "     Digit-3       0.92      0.94      0.93      1107\n",
      "     Digit-4       0.96      0.94      0.95      1028\n",
      "     Digit-5       0.94      0.93      0.93       938\n",
      "     Digit-6       0.97      0.96      0.96      1013\n",
      "     Digit-7       0.94      0.95      0.95      1091\n",
      "     Digit-8       0.93      0.95      0.94       998\n",
      "     Digit-9       0.91      0.94      0.92      1059\n",
      "\n",
      "   micro avg       0.95      0.95      0.95     10500\n",
      "   macro avg       0.95      0.95      0.95     10500\n",
      "weighted avg       0.95      0.95      0.95     10500\n",
      "\n"
     ]
    }
   ],
   "source": [
    "from sklearn.metrics import classification_report\n",
    "\n",
    "target_names = ['Digit-' + str(x) for x in range(0, 10)]\n",
    "print(\"svmLinearClf:\\n\", classification_report(\n",
    "    svmLinearClf.predict(x_test), y_test, target_names=target_names))\n",
    "print(\"svmPcaClf:\\n\", classification_report(\n",
    "    svmPcaClf.predict(pcaTest), y_test, target_names=target_names))"
   ]
  },
  {
   "cell_type": "markdown",
   "metadata": {},
   "source": [
    "## Decition Tree classifier"
   ]
  },
  {
   "cell_type": "code",
   "execution_count": 28,
   "metadata": {
    "ExecuteTime": {
     "end_time": "2019-02-14T15:58:48.925700Z",
     "start_time": "2019-02-14T15:58:32.772262Z"
    }
   },
   "outputs": [
    {
     "data": {
      "text/plain": [
       "array([0.84329779, 0.84      , 0.83431784])"
      ]
     },
     "execution_count": 28,
     "metadata": {},
     "output_type": "execute_result"
    }
   ],
   "source": [
    "from sklearn.model_selection import cross_val_score\n",
    "from sklearn.tree import DecisionTreeClassifier\n",
    "\n",
    "dtClf = DecisionTreeClassifier(random_state=0)\n",
    "cross_val_score(dtClf, x_train, y_train, cv=3)"
   ]
  },
  {
   "cell_type": "code",
   "execution_count": 32,
   "metadata": {
    "ExecuteTime": {
     "end_time": "2019-02-14T16:04:34.255802Z",
     "start_time": "2019-02-14T16:04:26.853863Z"
    }
   },
   "outputs": [
    {
     "data": {
      "text/plain": [
       "0.8139047619047619"
      ]
     },
     "execution_count": 32,
     "metadata": {},
     "output_type": "execute_result"
    }
   ],
   "source": [
    "dtClf.fit(pcaTrain, y_train)\n",
    "dtClf.score(pcaTest, y_test)"
   ]
  },
  {
   "cell_type": "code",
   "execution_count": 33,
   "metadata": {
    "ExecuteTime": {
     "end_time": "2019-02-14T16:04:36.988736Z",
     "start_time": "2019-02-14T16:04:36.283282Z"
    }
   },
   "outputs": [],
   "source": [
    "from sklearn.tree import export_graphviz\n",
    "\n",
    "export_graphviz(dtClf, out_file='tree.dot')"
   ]
  },
  {
   "cell_type": "markdown",
   "metadata": {},
   "source": [
    "## Random Forst classifier"
   ]
  },
  {
   "cell_type": "code",
   "execution_count": 19,
   "metadata": {
    "ExecuteTime": {
     "end_time": "2019-02-12T15:29:13.960863Z",
     "start_time": "2019-02-12T15:29:11.943697Z"
    }
   },
   "outputs": [
    {
     "name": "stderr",
     "output_type": "stream",
     "text": [
      "/Users/zhenglj/miniconda3/lib/python3.6/site-packages/sklearn/ensemble/forest.py:248: FutureWarning:\n",
      "\n",
      "The default value of n_estimators will change from 10 in version 0.20 to 100 in 0.22.\n",
      "\n",
      "/Users/zhenglj/miniconda3/lib/python3.6/site-packages/ipykernel_launcher.py:4: DataConversionWarning:\n",
      "\n",
      "A column-vector y was passed when a 1d array was expected. Please change the shape of y to (n_samples,), for example using ravel().\n",
      "\n"
     ]
    },
    {
     "data": {
      "text/plain": [
       "0.934952380952381"
      ]
     },
     "execution_count": 19,
     "metadata": {},
     "output_type": "execute_result"
    }
   ],
   "source": [
    "from sklearn.ensemble import RandomForestClassifier\n",
    "\n",
    "rfClf = RandomForestClassifier()\n",
    "rfClf.fit(x_train, y_train)  # 训练SVM\n",
    "rfClf.score(x_test, y_test)"
   ]
  },
  {
   "cell_type": "code",
   "execution_count": 20,
   "metadata": {
    "ExecuteTime": {
     "end_time": "2019-02-12T15:29:14.059873Z",
     "start_time": "2019-02-12T15:29:13.964131Z"
    }
   },
   "outputs": [
    {
     "name": "stdout",
     "output_type": "stream",
     "text": [
      "rfClf:\n",
      "               precision    recall  f1-score   support\n",
      "\n",
      "     Digit-0       0.97      0.94      0.96      1058\n",
      "     Digit-1       0.98      0.97      0.98      1143\n",
      "     Digit-2       0.94      0.92      0.93      1081\n",
      "     Digit-3       0.91      0.90      0.91      1131\n",
      "     Digit-4       0.96      0.92      0.94      1050\n",
      "     Digit-5       0.92      0.91      0.91       940\n",
      "     Digit-6       0.96      0.96      0.96      1013\n",
      "     Digit-7       0.94      0.96      0.95      1084\n",
      "     Digit-8       0.89      0.93      0.91       968\n",
      "     Digit-9       0.88      0.94      0.91      1032\n",
      "\n",
      "   micro avg       0.93      0.93      0.93     10500\n",
      "   macro avg       0.93      0.93      0.93     10500\n",
      "weighted avg       0.94      0.93      0.94     10500\n",
      "\n"
     ]
    }
   ],
   "source": [
    "from sklearn.metrics import classification_report\n",
    "\n",
    "target_names = ['Digit-' + str(x) for x in range(0, 10)]\n",
    "print(\"rfClf:\\n\", classification_report(\n",
    "    rfClf.predict(x_test), y_test, target_names=target_names))"
   ]
  },
  {
   "cell_type": "markdown",
   "metadata": {
    "ExecuteTime": {
     "end_time": "2019-02-12T14:54:29.442979Z",
     "start_time": "2019-02-12T14:54:29.439525Z"
    }
   },
   "source": [
    "## Nerual Network classifier"
   ]
  },
  {
   "cell_type": "code",
   "execution_count": 21,
   "metadata": {
    "ExecuteTime": {
     "end_time": "2019-02-12T15:29:16.302352Z",
     "start_time": "2019-02-12T15:29:14.062348Z"
    }
   },
   "outputs": [
    {
     "name": "stdout",
     "output_type": "stream",
     "text": [
      "1.12.0\n"
     ]
    }
   ],
   "source": [
    "# TensorFlow and tf.keras\n",
    "import tensorflow as tf\n",
    "from tensorflow import keras\n",
    "\n",
    "# fix error\n",
    "# OMP: Error #15: Initializing libiomp5.dylib, but found libiomp5.dylib already initialized.\n",
    "import os\n",
    "os.environ['KMP_DUPLICATE_LIB_OK'] = 'True'\n",
    "\n",
    "print(tf.__version__)"
   ]
  },
  {
   "cell_type": "code",
   "execution_count": 22,
   "metadata": {
    "ExecuteTime": {
     "end_time": "2019-02-12T15:29:16.743378Z",
     "start_time": "2019-02-12T15:29:16.304829Z"
    }
   },
   "outputs": [],
   "source": [
    "x_train0 = x_train / 255.0\n",
    "x_test0 = x_test / 255.0"
   ]
  },
  {
   "cell_type": "code",
   "execution_count": 23,
   "metadata": {
    "ExecuteTime": {
     "end_time": "2019-02-12T15:29:16.836805Z",
     "start_time": "2019-02-12T15:29:16.745238Z"
    }
   },
   "outputs": [],
   "source": [
    "model = keras.Sequential([\n",
    "    keras.layers.Flatten(input_shape=(28*28,)),\n",
    "    keras.layers.Dense(128, activation=tf.nn.relu),\n",
    "    keras.layers.Dense(10, activation=tf.nn.softmax)\n",
    "])"
   ]
  },
  {
   "cell_type": "code",
   "execution_count": 24,
   "metadata": {
    "ExecuteTime": {
     "end_time": "2019-02-12T15:29:16.938581Z",
     "start_time": "2019-02-12T15:29:16.838513Z"
    }
   },
   "outputs": [],
   "source": [
    "model.compile(optimizer=tf.train.AdamOptimizer(),\n",
    "              loss='sparse_categorical_crossentropy',\n",
    "              metrics=['accuracy'])"
   ]
  },
  {
   "cell_type": "code",
   "execution_count": 25,
   "metadata": {
    "ExecuteTime": {
     "end_time": "2019-02-12T15:29:42.038122Z",
     "start_time": "2019-02-12T15:29:16.940811Z"
    }
   },
   "outputs": [
    {
     "name": "stdout",
     "output_type": "stream",
     "text": [
      "Epoch 1/5\n",
      "31500/31500 [==============================] - 5s 169us/step - loss: 0.3294 - acc: 0.9085\n",
      "Epoch 2/5\n",
      "31500/31500 [==============================] - 5s 152us/step - loss: 0.1505 - acc: 0.9567\n",
      "Epoch 3/5\n",
      "31500/31500 [==============================] - 5s 157us/step - loss: 0.1019 - acc: 0.9693\n",
      "Epoch 4/5\n",
      "31500/31500 [==============================] - 5s 155us/step - loss: 0.0761 - acc: 0.9771\n",
      "Epoch 5/5\n",
      "31500/31500 [==============================] - 5s 157us/step - loss: 0.0587 - acc: 0.9825\n"
     ]
    },
    {
     "data": {
      "text/plain": [
       "<tensorflow.python.keras.callbacks.History at 0x1a79b31198>"
      ]
     },
     "execution_count": 25,
     "metadata": {},
     "output_type": "execute_result"
    }
   ],
   "source": [
    "model.fit(x_train0, y_train, epochs=5)"
   ]
  },
  {
   "cell_type": "code",
   "execution_count": 26,
   "metadata": {
    "ExecuteTime": {
     "end_time": "2019-02-12T15:29:42.485797Z",
     "start_time": "2019-02-12T15:29:42.041228Z"
    }
   },
   "outputs": [
    {
     "name": "stdout",
     "output_type": "stream",
     "text": [
      "rfClf:\n",
      "               precision    recall  f1-score   support\n",
      "\n",
      "     Digit-0       0.99      0.98      0.98      1032\n",
      "     Digit-1       1.00      0.96      0.98      1170\n",
      "     Digit-2       0.98      0.97      0.97      1064\n",
      "     Digit-3       0.96      0.94      0.95      1144\n",
      "     Digit-4       0.99      0.95      0.97      1048\n",
      "     Digit-5       0.96      0.96      0.96       930\n",
      "     Digit-6       0.99      0.97      0.98      1020\n",
      "     Digit-7       0.96      0.98      0.97      1076\n",
      "     Digit-8       0.93      0.98      0.95       961\n",
      "     Digit-9       0.93      0.96      0.94      1055\n",
      "\n",
      "   micro avg       0.97      0.97      0.97     10500\n",
      "   macro avg       0.97      0.97      0.97     10500\n",
      "weighted avg       0.97      0.97      0.97     10500\n",
      "\n"
     ]
    }
   ],
   "source": [
    "from sklearn.metrics import classification_report\n",
    "\n",
    "target_names = ['Digit-' + str(x) for x in range(0, 10)]\n",
    "print(\n",
    "    \"rfClf:\\n\",\n",
    "    classification_report(model.predict(x_test).argmax(1), y_test, target_names=target_names))"
   ]
  },
  {
   "cell_type": "code",
   "execution_count": null,
   "metadata": {},
   "outputs": [],
   "source": []
  }
 ],
 "metadata": {
  "colab": {
   "collapsed_sections": [],
   "name": "digit-recognizer-knn.ipynb",
   "provenance": [],
   "version": "0.3.2"
  },
  "kernelspec": {
   "display_name": "Python 3",
   "language": "python",
   "name": "python3"
  },
  "language_info": {
   "codemirror_mode": {
    "name": "ipython",
    "version": 3
   },
   "file_extension": ".py",
   "mimetype": "text/x-python",
   "name": "python",
   "nbconvert_exporter": "python",
   "pygments_lexer": "ipython3",
   "version": "3.6.7"
  }
 },
 "nbformat": 4,
 "nbformat_minor": 1
}
