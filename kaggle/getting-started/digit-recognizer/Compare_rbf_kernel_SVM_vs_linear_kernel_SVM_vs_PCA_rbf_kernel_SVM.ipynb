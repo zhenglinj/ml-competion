{
 "cells": [
  {
   "cell_type": "markdown",
   "metadata": {
    "colab_type": "text",
    "id": "EkUFgxeWkyDJ"
   },
   "source": [
    "# Compare Rbf SVM vs Linear SVM vs PCA+Rbf SVM"
   ]
  },
  {
   "cell_type": "code",
   "execution_count": 1,
   "metadata": {
    "ExecuteTime": {
     "end_time": "2019-02-24T03:38:25.733717Z",
     "start_time": "2019-02-24T03:38:24.249681Z"
    },
    "colab": {},
    "colab_type": "code",
    "id": "bg7fBXtWN5RR"
   },
   "outputs": [],
   "source": [
    "import matplotlib\n",
    "import matplotlib.pyplot as plt\n",
    "import matplotlib.image as mpimg\n",
    "import seaborn as sns\n",
    "import numpy as np  # linear algebra\n",
    "import pandas as pd  # data processing, CSV file I/O (e.g. pd.read_csv)\n",
    "\n",
    "%matplotlib inline"
   ]
  },
  {
   "cell_type": "markdown",
   "metadata": {
    "colab_type": "text",
    "id": "CfT1AdCaG-J0"
   },
   "source": [
    "## Loading the Digits Dataset"
   ]
  },
  {
   "cell_type": "code",
   "execution_count": 2,
   "metadata": {
    "ExecuteTime": {
     "end_time": "2019-02-24T03:38:35.912093Z",
     "start_time": "2019-02-24T03:38:25.736364Z"
    },
    "colab": {
     "base_uri": "https://localhost:8080/",
     "height": 34
    },
    "colab_type": "code",
    "id": "l4gt4U9nN5Rb",
    "outputId": "cd6b18ba-b725-481e-f500-a6e619e570d6"
   },
   "outputs": [],
   "source": [
    "#Local\n",
    "initialized = False\n",
    "if not initialized:\n",
    "    try:\n",
    "        train = pd.read_csv(\"./input/train.csv\")\n",
    "        test = pd.read_csv(\"./input/test.csv\")\n",
    "\n",
    "        train_labels_df, train_images_df = train[['label']], train.iloc[:, 1:]\n",
    "        test_images_df = test.iloc[:, 0:]\n",
    "        initData = True\n",
    "    except Exception as e:\n",
    "        print(e)"
   ]
  },
  {
   "cell_type": "code",
   "execution_count": 3,
   "metadata": {
    "ExecuteTime": {
     "end_time": "2019-02-24T03:38:35.923435Z",
     "start_time": "2019-02-24T03:38:35.914400Z"
    },
    "colab": {
     "base_uri": "https://localhost:8080/",
     "height": 51
    },
    "colab_type": "code",
    "id": "g0s9lkSedoQz",
    "outputId": "4dc75f22-4d63-47c7-be00-45c9304c4237"
   },
   "outputs": [
    {
     "name": "stdout",
     "output_type": "stream",
     "text": [
      "No module named 'mnist'\n"
     ]
    }
   ],
   "source": [
    "#Colab\n",
    "#!pip install -q mnist\n",
    "if not initialized:\n",
    "    try:\n",
    "        import mnist\n",
    "        print(mnist.__version__)\n",
    "\n",
    "        train_images = mnist.train_images()\n",
    "        train_labels = mnist.train_labels()\n",
    "        test_images = mnist.test_images()\n",
    "        test_labels = mnist.test_labels()\n",
    "        print((train_images.shape, train_labels.shape, test_images.shape,\n",
    "               test_labels.shape))\n",
    "\n",
    "        train_images_df = pd.DataFrame(\n",
    "            train_images.reshape(\n",
    "                (train_images.shape[0],\n",
    "                 train_images.shape[1] * train_images.shape[2])))\n",
    "        train_labels_df = pd.DataFrame(train_labels)\n",
    "        test_images_df = pd.DataFrame(\n",
    "            test_images.reshape((test_images.shape[0],\n",
    "                                 test_images.shape[1] * test_images.shape[2])))\n",
    "        test_labels_df = pd.DataFrame(test_labels)\n",
    "        initData = True\n",
    "    except Exception as e:\n",
    "        print(e)"
   ]
  },
  {
   "cell_type": "markdown",
   "metadata": {
    "colab_type": "text",
    "id": "leCjkAO4G5UL"
   },
   "source": [
    "### Check for null and missing values"
   ]
  },
  {
   "cell_type": "code",
   "execution_count": 4,
   "metadata": {
    "ExecuteTime": {
     "end_time": "2019-02-24T03:38:36.579084Z",
     "start_time": "2019-02-24T03:38:35.929876Z"
    },
    "colab": {
     "base_uri": "https://localhost:8080/",
     "height": 102
    },
    "colab_type": "code",
    "id": "U_Ta5TBwFA0R",
    "outputId": "1ddab483-bc1f-4cac-c820-33b35d297c02"
   },
   "outputs": [
    {
     "data": {
      "text/plain": [
       "count       784\n",
       "unique        1\n",
       "top       False\n",
       "freq        784\n",
       "dtype: object"
      ]
     },
     "execution_count": 4,
     "metadata": {},
     "output_type": "execute_result"
    }
   ],
   "source": [
    "train_images_df.isnull().any().describe()"
   ]
  },
  {
   "cell_type": "code",
   "execution_count": 5,
   "metadata": {
    "ExecuteTime": {
     "end_time": "2019-02-24T03:38:36.824881Z",
     "start_time": "2019-02-24T03:38:36.583284Z"
    },
    "colab": {
     "base_uri": "https://localhost:8080/",
     "height": 102
    },
    "colab_type": "code",
    "id": "lzN77DlJFA3L",
    "outputId": "5a037172-a6e9-4258-de57-c442557507f7"
   },
   "outputs": [
    {
     "data": {
      "text/plain": [
       "count       784\n",
       "unique        1\n",
       "top       False\n",
       "freq        784\n",
       "dtype: object"
      ]
     },
     "execution_count": 5,
     "metadata": {},
     "output_type": "execute_result"
    }
   ],
   "source": [
    "test_images_df.isnull().any().describe()"
   ]
  },
  {
   "cell_type": "markdown",
   "metadata": {
    "colab_type": "text",
    "id": "cF21btLUN5Rx"
   },
   "source": [
    "### Split data"
   ]
  },
  {
   "cell_type": "code",
   "execution_count": 6,
   "metadata": {
    "ExecuteTime": {
     "end_time": "2019-02-24T03:38:37.979548Z",
     "start_time": "2019-02-24T03:38:36.827160Z"
    },
    "colab": {},
    "colab_type": "code",
    "id": "coqfHeGAN5Ry"
   },
   "outputs": [],
   "source": [
    "from sklearn.model_selection import train_test_split\n",
    "\n",
    "x_train, x_test, y_train, y_test = train_test_split(\n",
    "    train_images_df, train_labels_df, test_size=0.25, random_state=40)"
   ]
  },
  {
   "cell_type": "markdown",
   "metadata": {
    "colab_type": "text",
    "id": "cZZmiCaJN5R3"
   },
   "source": [
    "### Show digit data as graph "
   ]
  },
  {
   "cell_type": "code",
   "execution_count": 7,
   "metadata": {
    "ExecuteTime": {
     "end_time": "2019-02-24T03:38:39.049069Z",
     "start_time": "2019-02-24T03:38:37.984790Z"
    },
    "colab": {
     "base_uri": "https://localhost:8080/",
     "height": 643
    },
    "colab_type": "code",
    "id": "KxRm-unuN5R4",
    "outputId": "8850026e-092c-4a47-8f8a-13b31fac13a1"
   },
   "outputs": [
    {
     "name": "stderr",
     "output_type": "stream",
     "text": [
      "/Users/zhenglj/miniconda3/lib/python3.6/site-packages/matplotlib/text.py:1191: FutureWarning: elementwise comparison failed; returning scalar instead, but in the future will perform elementwise comparison\n",
      "  if s != self._text:\n"
     ]
    },
    {
     "data": {
      "image/png": "[encoded data removed]",
      "text/plain": [
       "<Figure size 720x720 with 25 Axes>"
      ]
     },
     "metadata": {},
     "output_type": "display_data"
    }
   ],
   "source": [
    "image_size = int(x_train.shape[1]**.5)\n",
    "\n",
    "plt.figure(figsize=(10, 10))\n",
    "plt.gray()\n",
    "for i in range(25):\n",
    "    plt.subplot(5, 5, i + 1)\n",
    "    plt.xticks([])\n",
    "    plt.yticks([])\n",
    "    plt.grid(False)\n",
    "    plt.imshow(\n",
    "        x_train.values[i].reshape((image_size, image_size)),\n",
    "        cmap=plt.cm.binary)\n",
    "    plt.xlabel(y_train.values[i])\n",
    "\n",
    "plt.show()"
   ]
  },
  {
   "cell_type": "code",
   "execution_count": 8,
   "metadata": {
    "ExecuteTime": {
     "end_time": "2019-02-24T03:38:39.059675Z",
     "start_time": "2019-02-24T03:38:39.052629Z"
    },
    "colab": {},
    "colab_type": "code",
    "id": "zBSjl4gsN5SB"
   },
   "outputs": [],
   "source": [
    "size = 4000  # the libsvm time performace O(n^2). the max n=20000\n",
    "x_train1, y_train1 = x_train.iloc[0:size, :], y_train.iloc[0:size, :]"
   ]
  },
  {
   "cell_type": "markdown",
   "metadata": {
    "colab_type": "text",
    "id": "EXqmHBqLIZNX"
   },
   "source": [
    "## The Rbf SVM"
   ]
  },
  {
   "cell_type": "code",
   "execution_count": 9,
   "metadata": {
    "ExecuteTime": {
     "end_time": "2019-02-24T03:39:48.757501Z",
     "start_time": "2019-02-24T03:38:39.061869Z"
    },
    "colab": {
     "base_uri": "https://localhost:8080/",
     "height": 105
    },
    "colab_type": "code",
    "id": "9voIiWTaFA59",
    "outputId": "906eac4d-e367-432b-e725-070f47689de4"
   },
   "outputs": [
    {
     "name": "stderr",
     "output_type": "stream",
     "text": [
      "/Users/zhenglj/miniconda3/lib/python3.6/site-packages/sklearn/utils/validation.py:752: DataConversionWarning: A column-vector y was passed when a 1d array was expected. Please change the shape of y to (n_samples, ), for example using ravel().\n",
      "  y = column_or_1d(y, warn=True)\n"
     ]
    },
    {
     "data": {
      "text/plain": [
       "0.10761904761904761"
      ]
     },
     "execution_count": 9,
     "metadata": {},
     "output_type": "execute_result"
    }
   ],
   "source": [
    "from sklearn.svm import SVC\n",
    "\n",
    "rbf_clf = SVC(C=10, kernel='rbf', gamma='scale', decision_function_shape='ovo')\n",
    "rbf_clf.fit(x_train1, y_train1)  # 训练SVM\n",
    "rbf_clf.score(x_test, y_test)"
   ]
  },
  {
   "cell_type": "markdown",
   "metadata": {
    "colab_type": "text",
    "heading_collapsed": true,
    "id": "0zdZo_mTFA85"
   },
   "source": [
    "## The Linear SVM"
   ]
  },
  {
   "cell_type": "code",
   "execution_count": 10,
   "metadata": {
    "ExecuteTime": {
     "end_time": "2019-02-24T03:39:50.589795Z",
     "start_time": "2019-02-24T03:39:48.760255Z"
    },
    "colab": {},
    "colab_type": "code",
    "hidden": true,
    "id": "mEZVWIPsN5SS"
   },
   "outputs": [
    {
     "name": "stderr",
     "output_type": "stream",
     "text": [
      "/Users/zhenglj/miniconda3/lib/python3.6/site-packages/sklearn/utils/validation.py:752: DataConversionWarning: A column-vector y was passed when a 1d array was expected. Please change the shape of y to (n_samples, ), for example using ravel().\n",
      "  y = column_or_1d(y, warn=True)\n",
      "/Users/zhenglj/miniconda3/lib/python3.6/site-packages/sklearn/svm/base.py:922: ConvergenceWarning: Liblinear failed to converge, increase the number of iterations.\n",
      "  \"the number of iterations.\", ConvergenceWarning)\n"
     ]
    },
    {
     "data": {
      "text/plain": [
       "0.8214285714285714"
      ]
     },
     "execution_count": 10,
     "metadata": {},
     "output_type": "execute_result"
    }
   ],
   "source": [
    "from sklearn.svm import LinearSVC\n",
    "\n",
    "linear_clf = LinearSVC()\n",
    "linear_clf.fit(x_train1, y_train1)  # 训练SVM\n",
    "linear_clf.score(x_test, y_test)"
   ]
  },
  {
   "cell_type": "code",
   "execution_count": 11,
   "metadata": {
    "ExecuteTime": {
     "end_time": "2019-02-24T03:40:08.624956Z",
     "start_time": "2019-02-24T03:39:50.593232Z"
    },
    "colab": {},
    "colab_type": "code",
    "hidden": true,
    "id": "wN3u7WuiN5SX"
   },
   "outputs": [
    {
     "name": "stderr",
     "output_type": "stream",
     "text": [
      "/Users/zhenglj/miniconda3/lib/python3.6/site-packages/sklearn/utils/validation.py:752: DataConversionWarning: A column-vector y was passed when a 1d array was expected. Please change the shape of y to (n_samples, ), for example using ravel().\n",
      "  y = column_or_1d(y, warn=True)\n"
     ]
    },
    {
     "data": {
      "text/plain": [
       "0.8911428571428571"
      ]
     },
     "execution_count": 11,
     "metadata": {},
     "output_type": "execute_result"
    }
   ],
   "source": [
    "lin_clf = SVC(C=10, kernel='linear', decision_function_shape='ovo')\n",
    "lin_clf.fit(x_train1, y_train1)  # 训练SVM\n",
    "lin_clf.score(x_test, y_test)"
   ]
  },
  {
   "cell_type": "markdown",
   "metadata": {
    "colab_type": "text",
    "heading_collapsed": true,
    "id": "C1cOD0yKN5Sa"
   },
   "source": [
    "## The Poly SVM"
   ]
  },
  {
   "cell_type": "code",
   "execution_count": 12,
   "metadata": {
    "ExecuteTime": {
     "end_time": "2019-02-24T03:40:26.508158Z",
     "start_time": "2019-02-24T03:40:08.628382Z"
    },
    "colab": {},
    "colab_type": "code",
    "hidden": true,
    "id": "pq8tA-hZN5Sb"
   },
   "outputs": [
    {
     "name": "stderr",
     "output_type": "stream",
     "text": [
      "/Users/zhenglj/miniconda3/lib/python3.6/site-packages/sklearn/utils/validation.py:752: DataConversionWarning: A column-vector y was passed when a 1d array was expected. Please change the shape of y to (n_samples, ), for example using ravel().\n",
      "  y = column_or_1d(y, warn=True)\n",
      "/Users/zhenglj/miniconda3/lib/python3.6/site-packages/sklearn/svm/base.py:196: FutureWarning: The default value of gamma will change from 'auto' to 'scale' in version 0.22 to account better for unscaled features. Set gamma explicitly to 'auto' or 'scale' to avoid this warning.\n",
      "  \"avoid this warning.\", FutureWarning)\n"
     ]
    },
    {
     "data": {
      "text/plain": [
       "0.9306666666666666"
      ]
     },
     "execution_count": 12,
     "metadata": {},
     "output_type": "execute_result"
    }
   ],
   "source": [
    "poly_clf = SVC(C=10, kernel='poly', decision_function_shape='ovr')\n",
    "poly_clf.fit(x_train1, y_train1)  # 训练SVM\n",
    "poly_clf.score(x_test, y_test)"
   ]
  },
  {
   "cell_type": "markdown",
   "metadata": {
    "colab_type": "text",
    "id": "IFhMW_nUN5Si"
   },
   "source": [
    "## The PCA + Rbf SVM"
   ]
  },
  {
   "cell_type": "code",
   "execution_count": 13,
   "metadata": {
    "ExecuteTime": {
     "end_time": "2019-02-24T03:40:33.040423Z",
     "start_time": "2019-02-24T03:40:26.510945Z"
    },
    "colab": {},
    "colab_type": "code",
    "id": "UKLbg7YRN5Sk"
   },
   "outputs": [
    {
     "name": "stdout",
     "output_type": "stream",
     "text": [
      "sum of explained_variance_ratio_ 0.9007457718763443\n",
      "(31500, 87) (10500, 87)\n"
     ]
    }
   ],
   "source": [
    "# PCA\n",
    "from sklearn.decomposition import PCA\n",
    "\n",
    "pca = PCA(n_components=0.9, whiten=True)\n",
    "pca.fit(x_train)\n",
    "pca_train = pca.transform(x_train)\n",
    "pca_test = pca.transform(x_test)\n",
    "\n",
    "#print('explained_variance_', pca.explained_variance_, '\\nexplained_variance_ratio_', pca.explained_variance_ratio_, '\\nn_components_', pca.n_components_)\n",
    "print('sum of explained_variance_ratio_', sum(pca.explained_variance_ratio_))\n",
    "print(pca_train.shape, pca_test.shape)\n",
    "pca_train1 = pca_train[0:size, :]"
   ]
  },
  {
   "cell_type": "code",
   "execution_count": 14,
   "metadata": {
    "ExecuteTime": {
     "end_time": "2019-02-24T03:40:38.279192Z",
     "start_time": "2019-02-24T03:40:33.043174Z"
    },
    "colab": {},
    "colab_type": "code",
    "id": "B9o_PanMN5Sq"
   },
   "outputs": [
    {
     "name": "stderr",
     "output_type": "stream",
     "text": [
      "/Users/zhenglj/miniconda3/lib/python3.6/site-packages/sklearn/utils/validation.py:752: DataConversionWarning: A column-vector y was passed when a 1d array was expected. Please change the shape of y to (n_samples, ), for example using ravel().\n",
      "  y = column_or_1d(y, warn=True)\n",
      "/Users/zhenglj/miniconda3/lib/python3.6/site-packages/sklearn/svm/base.py:196: FutureWarning: The default value of gamma will change from 'auto' to 'scale' in version 0.22 to account better for unscaled features. Set gamma explicitly to 'auto' or 'scale' to avoid this warning.\n",
      "  \"avoid this warning.\", FutureWarning)\n"
     ]
    },
    {
     "data": {
      "text/plain": [
       "0.9436190476190476"
      ]
     },
     "execution_count": 14,
     "metadata": {},
     "output_type": "execute_result"
    }
   ],
   "source": [
    "pca_clf = SVC(C=10, kernel='rbf', decision_function_shape='ovr')\n",
    "pca_clf.fit(pca_train1, y_train1)  # 训练SVM\n",
    "pca_clf.score(pca_test, y_test)"
   ]
  },
  {
   "cell_type": "markdown",
   "metadata": {
    "colab_type": "text",
    "id": "82ji0p3VN5S0"
   },
   "source": [
    "## Conclusions\n",
    "\n",
    "SVC全称是C-Support Vector Classification，是一种基于libsvm的支持向量机，由于其时间复杂度为O(n^2)，所以当样本数量超过两万时难以实现。 \n",
    "\n",
    "n为特征数，m为训练样本数。\n",
    "\n",
    "1. 如果相较于m而言，n要大许多，即训练集数据量不够支持我们训练一个复杂的非线性模型，我们选用逻辑回归模型或者不带核函数的支持向量机。\n",
    "\n",
    "2. 如果n较小，而且m大小中等，例如n在 1-1000 之间，而m在10-10000之间，使用高斯核函数的支持向量机。\n",
    "\n",
    "3. 如果n较小，而m较大，例如n在1-1000之间，而m大于50000，则使用支持向量机会非常慢，解决方案是创造、增加更多的特征，然后使用逻辑回归或不带核函数的支持向量机。\n",
    "\n",
    "\n",
    "**Rbf kernel SVM 模型原始数据训练正确率很低？？？**"
   ]
  },
  {
   "cell_type": "code",
   "execution_count": 15,
   "metadata": {
    "ExecuteTime": {
     "end_time": "2019-02-24T03:41:45.642560Z",
     "start_time": "2019-02-24T03:40:38.282458Z"
    },
    "colab": {},
    "colab_type": "code",
    "id": "WCJYdjjaN5Sw",
    "scrolled": false
   },
   "outputs": [
    {
     "name": "stderr",
     "output_type": "stream",
     "text": [
      "/Users/zhenglj/miniconda3/lib/python3.6/site-packages/sklearn/metrics/classification.py:1145: UndefinedMetricWarning: Recall and F-score are ill-defined and being set to 0.0 in labels with no true samples.\n",
      "  'recall', 'true', average, warn_for)\n",
      "/Users/zhenglj/miniconda3/lib/python3.6/site-packages/sklearn/metrics/classification.py:1145: UndefinedMetricWarning: Recall and F-score are ill-defined and being set to 0.0 in labels with no true samples.\n",
      "  'recall', 'true', average, warn_for)\n",
      "/Users/zhenglj/miniconda3/lib/python3.6/site-packages/sklearn/metrics/classification.py:1145: UndefinedMetricWarning: Recall and F-score are ill-defined and being set to 0.0 in labels with no true samples.\n",
      "  'recall', 'true', average, warn_for)\n"
     ]
    },
    {
     "name": "stdout",
     "output_type": "stream",
     "text": [
      "SVC :\n",
      "               precision    recall  f1-score   support\n",
      "\n",
      "     Digit-0       0.00      0.00      0.00         0\n",
      "     Digit-1       1.00      0.11      0.19     10500\n",
      "     Digit-2       0.00      0.00      0.00         0\n",
      "     Digit-3       0.00      0.00      0.00         0\n",
      "     Digit-4       0.00      0.00      0.00         0\n",
      "     Digit-5       0.00      0.00      0.00         0\n",
      "     Digit-6       0.00      0.00      0.00         0\n",
      "     Digit-7       0.00      0.00      0.00         0\n",
      "     Digit-8       0.00      0.00      0.00         0\n",
      "     Digit-9       0.00      0.00      0.00         0\n",
      "\n",
      "   micro avg       0.11      0.11      0.11     10500\n",
      "   macro avg       0.10      0.01      0.02     10500\n",
      "weighted avg       1.00      0.11      0.19     10500\n",
      "\n",
      "LinearSVC :\n",
      "               precision    recall  f1-score   support\n",
      "\n",
      "     Digit-0       0.94      0.87      0.90      1108\n",
      "     Digit-1       0.97      0.91      0.94      1214\n",
      "     Digit-2       0.80      0.81      0.80      1044\n",
      "     Digit-3       0.77      0.81      0.79      1071\n",
      "     Digit-4       0.84      0.82      0.83      1046\n",
      "     Digit-5       0.72      0.74      0.73       905\n",
      "     Digit-6       0.91      0.89      0.90      1036\n",
      "     Digit-7       0.84      0.85      0.84      1083\n",
      "     Digit-8       0.68      0.74      0.71       931\n",
      "     Digit-9       0.73      0.75      0.74      1062\n",
      "\n",
      "   micro avg       0.82      0.82      0.82     10500\n",
      "   macro avg       0.82      0.82      0.82     10500\n",
      "weighted avg       0.83      0.82      0.82     10500\n",
      "\n",
      "SVC :\n",
      "               precision    recall  f1-score   support\n",
      "\n",
      "     Digit-0       0.96      0.93      0.95      1059\n",
      "     Digit-1       0.99      0.93      0.96      1195\n",
      "     Digit-2       0.90      0.85      0.87      1114\n",
      "     Digit-3       0.86      0.84      0.85      1155\n",
      "     Digit-4       0.91      0.87      0.89      1060\n",
      "     Digit-5       0.82      0.86      0.84       888\n",
      "     Digit-6       0.93      0.95      0.94       988\n",
      "     Digit-7       0.91      0.89      0.90      1134\n",
      "     Digit-8       0.82      0.91      0.86       909\n",
      "     Digit-9       0.81      0.89      0.84       998\n",
      "\n",
      "   micro avg       0.89      0.89      0.89     10500\n",
      "   macro avg       0.89      0.89      0.89     10500\n",
      "weighted avg       0.89      0.89      0.89     10500\n",
      "\n",
      "SVC :\n",
      "               precision    recall  f1-score   support\n",
      "\n",
      "     Digit-0       0.97      0.94      0.95      1054\n",
      "     Digit-1       0.98      0.93      0.96      1196\n",
      "     Digit-2       0.93      0.92      0.93      1055\n",
      "     Digit-3       0.91      0.92      0.92      1105\n",
      "     Digit-4       0.94      0.93      0.94      1026\n",
      "     Digit-5       0.91      0.90      0.90       949\n",
      "     Digit-6       0.94      0.95      0.94       999\n",
      "     Digit-7       0.95      0.94      0.94      1115\n",
      "     Digit-8       0.90      0.95      0.93       961\n",
      "     Digit-9       0.88      0.93      0.90      1040\n",
      "\n",
      "   micro avg       0.93      0.93      0.93     10500\n",
      "   macro avg       0.93      0.93      0.93     10500\n",
      "weighted avg       0.93      0.93      0.93     10500\n",
      "\n",
      "SVC :\n",
      "               precision    recall  f1-score   support\n",
      "\n",
      "     Digit-0       0.98      0.97      0.98      1027\n",
      "     Digit-1       0.99      0.98      0.98      1138\n",
      "     Digit-2       0.96      0.91      0.93      1108\n",
      "     Digit-3       0.91      0.93      0.92      1109\n",
      "     Digit-4       0.95      0.93      0.94      1028\n",
      "     Digit-5       0.93      0.93      0.93       942\n",
      "     Digit-6       0.97      0.96      0.96      1015\n",
      "     Digit-7       0.94      0.94      0.94      1099\n",
      "     Digit-8       0.92      0.95      0.94       986\n",
      "     Digit-9       0.89      0.93      0.91      1048\n",
      "\n",
      "   micro avg       0.94      0.94      0.94     10500\n",
      "   macro avg       0.94      0.94      0.94     10500\n",
      "weighted avg       0.94      0.94      0.94     10500\n",
      "\n"
     ]
    }
   ],
   "source": [
    "from sklearn.metrics import classification_report\n",
    "\n",
    "target_names = ['Digit-' + str(x) for x in range(0, 10)]\n",
    "\n",
    "for clf in [rbf_clf, linear_clf, lin_clf, poly_clf]:\n",
    "    clf_name = clf.__class__.__name__\n",
    "    print(\n",
    "        clf_name, \":\\n\",\n",
    "        classification_report(\n",
    "            clf.predict(x_test), y_test, target_names=target_names))\n",
    "\n",
    "clf_name = pca_clf.__class__.__name__\n",
    "print(\n",
    "    clf_name, \":\\n\",\n",
    "    classification_report(\n",
    "        pca_clf.predict(pca_test), y_test, target_names=target_names))"
   ]
  },
  {
   "cell_type": "markdown",
   "metadata": {
    "colab": {},
    "colab_type": "code",
    "id": "gojYgraLN5S1"
   },
   "source": [
    "## Why Rbf kernel SVM score so low (score=0.1)???\n",
    "\n",
    "\n",
    "[rbf parameters](https://scikit-learn.org/stable/auto_examples/svm/plot_rbf_parameters.html)\n",
    "\n",
    "    The behavior of the model is very sensitive to the gamma parameter. If gamma is too large, the radius of the area of influence of the support vectors only includes the support vector itself and no amount of regularization with C will be able to prevent overfitting.\n",
    "\n",
    "    When gamma is very small, the model is too constrained and cannot capture the complexity or “shape” of the data. The region of influence of any selected support vector would include the whole training set. The resulting model will behave similarly to a linear model with a set of hyperplanes that separate the centers of high density of any pair of two classes.\n",
    "\n",
    "    模型的行为对gamma参数非常敏感。如果 gamma太大，则支持向量的影响区域的半径仅包括支持向量本身，并且没有正规化量C将能够防止过度拟合。\n",
    "\n",
    "    当gamma非常小时，模型太受限制并且无法捕获数据的复杂性或“形状”。任何选定支持向量的影响区域将包括整个训练集。得到的模型的行为类似于具有一组超平面的线性模型，这些超平面将任意一对两类的高密度中心分开。\n",
    "\n"
   ]
  },
  {
   "cell_type": "code",
   "execution_count": 16,
   "metadata": {
    "ExecuteTime": {
     "end_time": "2019-02-24T03:41:45.650449Z",
     "start_time": "2019-02-24T03:41:45.644943Z"
    }
   },
   "outputs": [
    {
     "data": {
      "text/plain": [
       "SVC(C=10, cache_size=200, class_weight=None, coef0=0.0,\n",
       "  decision_function_shape='ovo', degree=3, gamma='scale', kernel='rbf',\n",
       "  max_iter=-1, probability=False, random_state=None, shrinking=True,\n",
       "  tol=0.001, verbose=False)"
      ]
     },
     "execution_count": 16,
     "metadata": {},
     "output_type": "execute_result"
    }
   ],
   "source": [
    "rbf_clf"
   ]
  },
  {
   "cell_type": "code",
   "execution_count": 17,
   "metadata": {
    "ExecuteTime": {
     "end_time": "2019-02-24T03:41:45.663993Z",
     "start_time": "2019-02-24T03:41:45.655429Z"
    }
   },
   "outputs": [],
   "source": [
    "def similarity(xi, lm, sigma):\n",
    "    result = [np.exp((np.linalg.norm(l - xi, 2)**2) / (2 * (sigma**2))) for l in lm]\n",
    "    result = [1] + result\n",
    "    return result\n",
    "\n",
    "def rbf_kernel(x, lm, sigma):\n",
    "    return np.asarray([similarity(xi, lm, sigma) for xi in x])"
   ]
  },
  {
   "cell_type": "code",
   "execution_count": 18,
   "metadata": {
    "ExecuteTime": {
     "end_time": "2019-02-24T03:42:55.443130Z",
     "start_time": "2019-02-24T03:41:45.672121Z"
    }
   },
   "outputs": [
    {
     "data": {
      "text/plain": [
       "(3216, 785)"
      ]
     },
     "execution_count": 18,
     "metadata": {},
     "output_type": "execute_result"
    }
   ],
   "source": [
    "# Rbf kernel transform\n",
    "m = x_train1.shape[1]\n",
    "lm = x_train1.values[0:m]\n",
    "rbf_train1 = rbf_kernel(x_train1.values[m:], lm, 10000)\n",
    "pd.DataFrame(rbf_train1).shape"
   ]
  },
  {
   "cell_type": "code",
   "execution_count": 19,
   "metadata": {
    "ExecuteTime": {
     "end_time": "2019-02-24T03:42:57.648772Z",
     "start_time": "2019-02-24T03:42:55.446109Z"
    }
   },
   "outputs": [
    {
     "data": {
      "text/html": [
       "<div>\n",
       "<style scoped>\n",
       "    .dataframe tbody tr th:only-of-type {\n",
       "        vertical-align: middle;\n",
       "    }\n",
       "\n",
       "    .dataframe tbody tr th {\n",
       "        vertical-align: top;\n",
       "    }\n",
       "\n",
       "    .dataframe thead th {\n",
       "        text-align: right;\n",
       "    }\n",
       "</style>\n",
       "<table border=\"1\" class=\"dataframe\">\n",
       "  <thead>\n",
       "    <tr style=\"text-align: right;\">\n",
       "      <th></th>\n",
       "      <th>0</th>\n",
       "      <th>1</th>\n",
       "      <th>2</th>\n",
       "      <th>3</th>\n",
       "      <th>4</th>\n",
       "      <th>5</th>\n",
       "      <th>6</th>\n",
       "      <th>7</th>\n",
       "      <th>8</th>\n",
       "      <th>9</th>\n",
       "      <th>...</th>\n",
       "      <th>775</th>\n",
       "      <th>776</th>\n",
       "      <th>777</th>\n",
       "      <th>778</th>\n",
       "      <th>779</th>\n",
       "      <th>780</th>\n",
       "      <th>781</th>\n",
       "      <th>782</th>\n",
       "      <th>783</th>\n",
       "      <th>784</th>\n",
       "    </tr>\n",
       "  </thead>\n",
       "  <tbody>\n",
       "    <tr>\n",
       "      <th>count</th>\n",
       "      <td>3216.0</td>\n",
       "      <td>3216.000000</td>\n",
       "      <td>3216.000000</td>\n",
       "      <td>3216.000000</td>\n",
       "      <td>3216.000000</td>\n",
       "      <td>3216.000000</td>\n",
       "      <td>3216.000000</td>\n",
       "      <td>3216.000000</td>\n",
       "      <td>3216.000000</td>\n",
       "      <td>3216.000000</td>\n",
       "      <td>...</td>\n",
       "      <td>3216.000000</td>\n",
       "      <td>3216.000000</td>\n",
       "      <td>3216.000000</td>\n",
       "      <td>3216.000000</td>\n",
       "      <td>3216.000000</td>\n",
       "      <td>3216.000000</td>\n",
       "      <td>3216.000000</td>\n",
       "      <td>3216.000000</td>\n",
       "      <td>3216.000000</td>\n",
       "      <td>3216.000000</td>\n",
       "    </tr>\n",
       "    <tr>\n",
       "      <th>mean</th>\n",
       "      <td>1.0</td>\n",
       "      <td>1.034805</td>\n",
       "      <td>1.032059</td>\n",
       "      <td>1.031788</td>\n",
       "      <td>1.031024</td>\n",
       "      <td>1.032816</td>\n",
       "      <td>1.039198</td>\n",
       "      <td>1.039017</td>\n",
       "      <td>1.031936</td>\n",
       "      <td>1.036925</td>\n",
       "      <td>...</td>\n",
       "      <td>1.039128</td>\n",
       "      <td>1.034629</td>\n",
       "      <td>1.056181</td>\n",
       "      <td>1.033398</td>\n",
       "      <td>1.043690</td>\n",
       "      <td>1.029149</td>\n",
       "      <td>1.032033</td>\n",
       "      <td>1.030288</td>\n",
       "      <td>1.031607</td>\n",
       "      <td>1.038919</td>\n",
       "    </tr>\n",
       "    <tr>\n",
       "      <th>std</th>\n",
       "      <td>0.0</td>\n",
       "      <td>0.008305</td>\n",
       "      <td>0.007213</td>\n",
       "      <td>0.007137</td>\n",
       "      <td>0.008745</td>\n",
       "      <td>0.009429</td>\n",
       "      <td>0.006945</td>\n",
       "      <td>0.008148</td>\n",
       "      <td>0.010218</td>\n",
       "      <td>0.006789</td>\n",
       "      <td>...</td>\n",
       "      <td>0.007293</td>\n",
       "      <td>0.006679</td>\n",
       "      <td>0.009841</td>\n",
       "      <td>0.010178</td>\n",
       "      <td>0.007418</td>\n",
       "      <td>0.010626</td>\n",
       "      <td>0.008547</td>\n",
       "      <td>0.010606</td>\n",
       "      <td>0.007895</td>\n",
       "      <td>0.006887</td>\n",
       "    </tr>\n",
       "    <tr>\n",
       "      <th>min</th>\n",
       "      <td>1.0</td>\n",
       "      <td>1.004134</td>\n",
       "      <td>1.013808</td>\n",
       "      <td>1.007605</td>\n",
       "      <td>1.010216</td>\n",
       "      <td>1.009451</td>\n",
       "      <td>1.012670</td>\n",
       "      <td>1.011008</td>\n",
       "      <td>1.002219</td>\n",
       "      <td>1.002847</td>\n",
       "      <td>...</td>\n",
       "      <td>1.011908</td>\n",
       "      <td>1.010859</td>\n",
       "      <td>1.010703</td>\n",
       "      <td>1.002845</td>\n",
       "      <td>1.016140</td>\n",
       "      <td>1.000734</td>\n",
       "      <td>1.006741</td>\n",
       "      <td>1.001684</td>\n",
       "      <td>1.008496</td>\n",
       "      <td>1.009235</td>\n",
       "    </tr>\n",
       "    <tr>\n",
       "      <th>25%</th>\n",
       "      <td>1.0</td>\n",
       "      <td>1.029037</td>\n",
       "      <td>1.026234</td>\n",
       "      <td>1.026937</td>\n",
       "      <td>1.024622</td>\n",
       "      <td>1.025806</td>\n",
       "      <td>1.034562</td>\n",
       "      <td>1.032994</td>\n",
       "      <td>1.025993</td>\n",
       "      <td>1.032494</td>\n",
       "      <td>...</td>\n",
       "      <td>1.034927</td>\n",
       "      <td>1.030268</td>\n",
       "      <td>1.051444</td>\n",
       "      <td>1.027261</td>\n",
       "      <td>1.038786</td>\n",
       "      <td>1.022629</td>\n",
       "      <td>1.025352</td>\n",
       "      <td>1.024030</td>\n",
       "      <td>1.026270</td>\n",
       "      <td>1.035061</td>\n",
       "    </tr>\n",
       "    <tr>\n",
       "      <th>50%</th>\n",
       "      <td>1.0</td>\n",
       "      <td>1.034319</td>\n",
       "      <td>1.031087</td>\n",
       "      <td>1.031116</td>\n",
       "      <td>1.029789</td>\n",
       "      <td>1.031296</td>\n",
       "      <td>1.039598</td>\n",
       "      <td>1.038779</td>\n",
       "      <td>1.032073</td>\n",
       "      <td>1.036537</td>\n",
       "      <td>...</td>\n",
       "      <td>1.039064</td>\n",
       "      <td>1.034217</td>\n",
       "      <td>1.058089</td>\n",
       "      <td>1.033361</td>\n",
       "      <td>1.044174</td>\n",
       "      <td>1.029095</td>\n",
       "      <td>1.030915</td>\n",
       "      <td>1.030402</td>\n",
       "      <td>1.030898</td>\n",
       "      <td>1.038571</td>\n",
       "    </tr>\n",
       "    <tr>\n",
       "      <th>75%</th>\n",
       "      <td>1.0</td>\n",
       "      <td>1.040248</td>\n",
       "      <td>1.036580</td>\n",
       "      <td>1.036062</td>\n",
       "      <td>1.036690</td>\n",
       "      <td>1.038540</td>\n",
       "      <td>1.044009</td>\n",
       "      <td>1.044492</td>\n",
       "      <td>1.038483</td>\n",
       "      <td>1.041091</td>\n",
       "      <td>...</td>\n",
       "      <td>1.043495</td>\n",
       "      <td>1.038574</td>\n",
       "      <td>1.063328</td>\n",
       "      <td>1.039782</td>\n",
       "      <td>1.048624</td>\n",
       "      <td>1.035975</td>\n",
       "      <td>1.037714</td>\n",
       "      <td>1.036926</td>\n",
       "      <td>1.036011</td>\n",
       "      <td>1.043045</td>\n",
       "    </tr>\n",
       "    <tr>\n",
       "      <th>max</th>\n",
       "      <td>1.0</td>\n",
       "      <td>1.064247</td>\n",
       "      <td>1.061299</td>\n",
       "      <td>1.063115</td>\n",
       "      <td>1.073147</td>\n",
       "      <td>1.067965</td>\n",
       "      <td>1.061760</td>\n",
       "      <td>1.073291</td>\n",
       "      <td>1.068872</td>\n",
       "      <td>1.063109</td>\n",
       "      <td>...</td>\n",
       "      <td>1.069038</td>\n",
       "      <td>1.060253</td>\n",
       "      <td>1.073891</td>\n",
       "      <td>1.071230</td>\n",
       "      <td>1.068605</td>\n",
       "      <td>1.069789</td>\n",
       "      <td>1.065955</td>\n",
       "      <td>1.067466</td>\n",
       "      <td>1.065056</td>\n",
       "      <td>1.066481</td>\n",
       "    </tr>\n",
       "  </tbody>\n",
       "</table>\n",
       "<p>8 rows × 785 columns</p>\n",
       "</div>"
      ],
      "text/plain": [
       "          0            1            2            3            4    \\\n",
       "count  3216.0  3216.000000  3216.000000  3216.000000  3216.000000   \n",
       "mean      1.0     1.034805     1.032059     1.031788     1.031024   \n",
       "std       0.0     0.008305     0.007213     0.007137     0.008745   \n",
       "min       1.0     1.004134     1.013808     1.007605     1.010216   \n",
       "25%       1.0     1.029037     1.026234     1.026937     1.024622   \n",
       "50%       1.0     1.034319     1.031087     1.031116     1.029789   \n",
       "75%       1.0     1.040248     1.036580     1.036062     1.036690   \n",
       "max       1.0     1.064247     1.061299     1.063115     1.073147   \n",
       "\n",
       "               5            6            7            8            9    \\\n",
       "count  3216.000000  3216.000000  3216.000000  3216.000000  3216.000000   \n",
       "mean      1.032816     1.039198     1.039017     1.031936     1.036925   \n",
       "std       0.009429     0.006945     0.008148     0.010218     0.006789   \n",
       "min       1.009451     1.012670     1.011008     1.002219     1.002847   \n",
       "25%       1.025806     1.034562     1.032994     1.025993     1.032494   \n",
       "50%       1.031296     1.039598     1.038779     1.032073     1.036537   \n",
       "75%       1.038540     1.044009     1.044492     1.038483     1.041091   \n",
       "max       1.067965     1.061760     1.073291     1.068872     1.063109   \n",
       "\n",
       "          ...               775          776          777          778  \\\n",
       "count     ...       3216.000000  3216.000000  3216.000000  3216.000000   \n",
       "mean      ...          1.039128     1.034629     1.056181     1.033398   \n",
       "std       ...          0.007293     0.006679     0.009841     0.010178   \n",
       "min       ...          1.011908     1.010859     1.010703     1.002845   \n",
       "25%       ...          1.034927     1.030268     1.051444     1.027261   \n",
       "50%       ...          1.039064     1.034217     1.058089     1.033361   \n",
       "75%       ...          1.043495     1.038574     1.063328     1.039782   \n",
       "max       ...          1.069038     1.060253     1.073891     1.071230   \n",
       "\n",
       "               779          780          781          782          783  \\\n",
       "count  3216.000000  3216.000000  3216.000000  3216.000000  3216.000000   \n",
       "mean      1.043690     1.029149     1.032033     1.030288     1.031607   \n",
       "std       0.007418     0.010626     0.008547     0.010606     0.007895   \n",
       "min       1.016140     1.000734     1.006741     1.001684     1.008496   \n",
       "25%       1.038786     1.022629     1.025352     1.024030     1.026270   \n",
       "50%       1.044174     1.029095     1.030915     1.030402     1.030898   \n",
       "75%       1.048624     1.035975     1.037714     1.036926     1.036011   \n",
       "max       1.068605     1.069789     1.065955     1.067466     1.065056   \n",
       "\n",
       "               784  \n",
       "count  3216.000000  \n",
       "mean      1.038919  \n",
       "std       0.006887  \n",
       "min       1.009235  \n",
       "25%       1.035061  \n",
       "50%       1.038571  \n",
       "75%       1.043045  \n",
       "max       1.066481  \n",
       "\n",
       "[8 rows x 785 columns]"
      ]
     },
     "execution_count": 19,
     "metadata": {},
     "output_type": "execute_result"
    }
   ],
   "source": [
    "pd.DataFrame(rbf_train1).describe()"
   ]
  },
  {
   "cell_type": "markdown",
   "metadata": {},
   "source": [
    "### Normalized\n",
    "\n",
    "gamma参数敏感，可以通过原始数据预处理归一化后用默认的gamma参数，来解决"
   ]
  },
  {
   "cell_type": "code",
   "execution_count": 20,
   "metadata": {
    "ExecuteTime": {
     "end_time": "2019-02-24T03:42:57.997203Z",
     "start_time": "2019-02-24T03:42:57.652161Z"
    }
   },
   "outputs": [],
   "source": [
    "# normalized\n",
    "# x_train1.std() # have zeros\n",
    "# (x_train1.max()-x_train1.min()) # have zeros\n",
    "normalized_train1 = (x_train1 - x_train1.mean()) / 255\n",
    "normalized_test = (x_test - x_test.mean()) / 255"
   ]
  },
  {
   "cell_type": "code",
   "execution_count": 21,
   "metadata": {
    "ExecuteTime": {
     "end_time": "2019-02-24T03:43:16.887209Z",
     "start_time": "2019-02-24T03:42:57.999404Z"
    }
   },
   "outputs": [
    {
     "name": "stderr",
     "output_type": "stream",
     "text": [
      "/Users/zhenglj/miniconda3/lib/python3.6/site-packages/sklearn/utils/validation.py:752: DataConversionWarning: A column-vector y was passed when a 1d array was expected. Please change the shape of y to (n_samples, ), for example using ravel().\n",
      "  y = column_or_1d(y, warn=True)\n",
      "/Users/zhenglj/miniconda3/lib/python3.6/site-packages/sklearn/svm/base.py:196: FutureWarning: The default value of gamma will change from 'auto' to 'scale' in version 0.22 to account better for unscaled features. Set gamma explicitly to 'auto' or 'scale' to avoid this warning.\n",
      "  \"avoid this warning.\", FutureWarning)\n"
     ]
    },
    {
     "data": {
      "text/plain": [
       "0.9159047619047619"
      ]
     },
     "execution_count": 21,
     "metadata": {},
     "output_type": "execute_result"
    }
   ],
   "source": [
    "from sklearn.svm import SVC\n",
    "\n",
    "normalized_rbf_clf = SVC(C=10, kernel='rbf', decision_function_shape='ovo') #gamma='scale', \n",
    "normalized_rbf_clf.fit(normalized_train1, y_train1)  # 训练SVM\n",
    "normalized_rbf_clf.score(normalized_test, y_test)"
   ]
  },
  {
   "cell_type": "code",
   "execution_count": 22,
   "metadata": {
    "ExecuteTime": {
     "end_time": "2019-02-24T03:43:39.105623Z",
     "start_time": "2019-02-24T03:43:16.890292Z"
    }
   },
   "outputs": [
    {
     "name": "stderr",
     "output_type": "stream",
     "text": [
      "/Users/zhenglj/miniconda3/lib/python3.6/site-packages/sklearn/utils/validation.py:752: DataConversionWarning: A column-vector y was passed when a 1d array was expected. Please change the shape of y to (n_samples, ), for example using ravel().\n",
      "  y = column_or_1d(y, warn=True)\n"
     ]
    },
    {
     "data": {
      "text/plain": [
       "0.9379047619047619"
      ]
     },
     "execution_count": 22,
     "metadata": {},
     "output_type": "execute_result"
    }
   ],
   "source": [
    "from sklearn.svm import SVC\n",
    "\n",
    "normalized_rbf_clf = SVC(C=10, kernel='rbf', gamma='scale', decision_function_shape='ovo') #\n",
    "normalized_rbf_clf.fit(normalized_train1, y_train1)  # 训练SVM\n",
    "normalized_rbf_clf.score(normalized_test, y_test)"
   ]
  },
  {
   "cell_type": "markdown",
   "metadata": {},
   "source": [
    "### Grid search SVM suitable parameters C & gamma"
   ]
  },
  {
   "cell_type": "code",
   "execution_count": 23,
   "metadata": {
    "ExecuteTime": {
     "end_time": "2019-02-24T03:43:39.190114Z",
     "start_time": "2019-02-24T03:43:39.107859Z"
    }
   },
   "outputs": [],
   "source": [
    "import numpy as np\n",
    "import matplotlib.pyplot as plt\n",
    "from matplotlib.colors import Normalize\n",
    "\n",
    "from sklearn.svm import SVC\n",
    "from sklearn.preprocessing import StandardScaler\n",
    "from sklearn.datasets import load_iris\n",
    "from sklearn.model_selection import StratifiedShuffleSplit\n",
    "from sklearn.model_selection import GridSearchCV\n",
    "\n",
    "\n",
    "# Utility function to move the midpoint of a colormap to be around\n",
    "# the values of interest.\n",
    "\n",
    "class MidpointNormalize(Normalize):\n",
    "\n",
    "    def __init__(self, vmin=None, vmax=None, midpoint=None, clip=False):\n",
    "        self.midpoint = midpoint\n",
    "        Normalize.__init__(self, vmin, vmax, clip)\n",
    "\n",
    "    def __call__(self, value, clip=None):\n",
    "        x, y = [self.vmin, self.midpoint, self.vmax], [0, 0.5, 1]\n",
    "        return np.ma.masked_array(np.interp(value, x, y))"
   ]
  },
  {
   "cell_type": "code",
   "execution_count": 24,
   "metadata": {
    "ExecuteTime": {
     "end_time": "2019-02-24T03:58:36.318464Z",
     "start_time": "2019-02-24T03:43:39.193321Z"
    }
   },
   "outputs": [
    {
     "name": "stderr",
     "output_type": "stream",
     "text": [
      "/Users/zhenglj/miniconda3/lib/python3.6/site-packages/ipykernel_launcher.py:11: DataConversionWarning: A column-vector y was passed when a 1d array was expected. Please change the shape of y to (n_samples, ), for example using ravel().\n",
      "  # This is added back by InteractiveShellApp.init_path()\n"
     ]
    },
    {
     "name": "stdout",
     "output_type": "stream",
     "text": [
      "The best parameters are {'C': 100.0, 'gamma': 1e-07} with a score of 0.87\n"
     ]
    }
   ],
   "source": [
    "# #############################################################################\n",
    "# Train classifiers\n",
    "#\n",
    "# For an initial search, a logarithmic grid with basis\n",
    "# 10 is often helpful. Using a basis of 2, a finer\n",
    "# tuning can be achieved but at a much higher cost.\n",
    "from sklearn.utils.validation import column_or_1d\n",
    "\n",
    "size = 500\n",
    "X, y = x_train[:size], y_train[:size]\n",
    "y = column_or_1d(y, warn=True)\n",
    "\n",
    "C_range = np.logspace(2, 14, 13)\n",
    "gamma_range = np.logspace(-15, -3, 13)\n",
    "param_grid = dict(gamma=gamma_range, C=C_range)\n",
    "cv = StratifiedShuffleSplit(n_splits=5, test_size=0.2, random_state=42)\n",
    "grid = GridSearchCV(SVC(), param_grid=param_grid, cv=cv)\n",
    "grid.fit(X, y)\n",
    "\n",
    "print(\"The best parameters are %s with a score of %0.2f\"\n",
    "      % (grid.best_params_, grid.best_score_))\n",
    "\n",
    "# Now we need to fit a classifier for all parameters in the 2d version\n",
    "# (we use a smaller set of parameters here because it takes a while to train)\n",
    "\n",
    "C_2d_range = [1e-2, 1, 1e2]\n",
    "gamma_2d_range = [1e-1, 1, 1e1]\n",
    "classifiers = []\n",
    "for C in C_2d_range:\n",
    "    for gamma in gamma_2d_range:\n",
    "        clf = SVC(C=C, gamma=gamma)\n",
    "        clf.fit(X, y)\n",
    "        classifiers.append((C, gamma, clf))\n"
   ]
  },
  {
   "cell_type": "code",
   "execution_count": 25,
   "metadata": {
    "ExecuteTime": {
     "end_time": "2019-02-24T04:53:58.692884Z",
     "start_time": "2019-02-24T03:58:36.320541Z"
    }
   },
   "outputs": [
    {
     "name": "stderr",
     "output_type": "stream",
     "text": [
      "/Users/zhenglj/miniconda3/lib/python3.6/site-packages/sklearn/utils/validation.py:752: DataConversionWarning: A column-vector y was passed when a 1d array was expected. Please change the shape of y to (n_samples, ), for example using ravel().\n",
      "  y = column_or_1d(y, warn=True)\n"
     ]
    },
    {
     "data": {
      "text/plain": [
       "0.942"
      ]
     },
     "execution_count": 25,
     "metadata": {},
     "output_type": "execute_result"
    }
   ],
   "source": [
    "best_rbf_clf = SVC(C=10, kernel='rbf', gamma=1e-07, decision_function_shape='ovo')\n",
    "best_rbf_clf.fit(x_train1, y_train1)  # 训练SVM\n",
    "best_rbf_clf.score(x_test, y_test)"
   ]
  },
  {
   "cell_type": "code",
   "execution_count": 26,
   "metadata": {
    "ExecuteTime": {
     "end_time": "2019-02-24T04:53:58.996527Z",
     "start_time": "2019-02-24T04:53:58.696366Z"
    }
   },
   "outputs": [
    {
     "data": {
      "image/png": "[encoded data removed]",
      "text/plain": [
       "<Figure size 576x432 with 2 Axes>"
      ]
     },
     "metadata": {
      "needs_background": "light"
     },
     "output_type": "display_data"
    }
   ],
   "source": [
    "# Draw heatmap of the validation accuracy as a function of gamma and C\n",
    "#\n",
    "# The score are encoded as colors with the hot colormap which varies from dark\n",
    "# red to bright yellow. As the most interesting scores are all located in the\n",
    "# 0.92 to 0.97 range we use a custom normalizer to set the mid-point to 0.92 so\n",
    "# as to make it easier to visualize the small variations of score values in the\n",
    "# interesting range while not brutally collapsing all the low score values to\n",
    "# the same color.\n",
    "\n",
    "scores = grid.cv_results_['mean_test_score'].reshape(len(C_range),\n",
    "                                                     len(gamma_range))\n",
    "\n",
    "plt.figure(figsize=(8, 6))\n",
    "plt.imshow(scores, interpolation='nearest', cmap=plt.cm.hot,\n",
    "           norm=MidpointNormalize(vmin=0.2, midpoint=0.92))\n",
    "plt.xlabel('gamma')\n",
    "plt.ylabel('C')\n",
    "plt.colorbar()\n",
    "plt.xticks(np.arange(len(gamma_range)), gamma_range, rotation=45)\n",
    "plt.yticks(np.arange(len(C_range)), C_range)\n",
    "plt.title('Validation accuracy')\n",
    "plt.show()\n"
   ]
  }
 ],
 "metadata": {
  "accelerator": "GPU",
  "colab": {
   "collapsed_sections": [],
   "name": "Compare rbf-kernel SVM vs linear-kernel SVM vs PCA rbf-kernel SVM.ipynb",
   "provenance": [],
   "version": "0.3.2"
  },
  "kernelspec": {
   "display_name": "Python 3",
   "language": "python",
   "name": "python3"
  },
  "language_info": {
   "codemirror_mode": {
    "name": "ipython",
    "version": 3
   },
   "file_extension": ".py",
   "mimetype": "text/x-python",
   "name": "python",
   "nbconvert_exporter": "python",
   "pygments_lexer": "ipython3",
   "version": "3.6.7"
  },
  "toc": {
   "base_numbering": 1,
   "nav_menu": {},
   "number_sections": true,
   "sideBar": true,
   "skip_h1_title": false,
   "title_cell": "Table of Contents",
   "title_sidebar": "Contents",
   "toc_cell": false,
   "toc_position": {},
   "toc_section_display": true,
   "toc_window_display": true
  }
 },
 "nbformat": 4,
 "nbformat_minor": 1
}
